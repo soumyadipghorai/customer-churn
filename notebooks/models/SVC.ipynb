{
 "cells": [
  {
   "cell_type": "code",
   "execution_count": 19,
   "metadata": {},
   "outputs": [],
   "source": [
    "# handling data \n",
    "import numpy as np \n",
    "import pandas as pd \n",
    "\n",
    "# warnings\n",
    "import warnings\n",
    "pd.options.mode.chained_assignment = None \n",
    "warnings.filterwarnings(action=\"ignore\")\n",
    "warnings.simplefilter(action='ignore', category=FutureWarning)\n",
    "\n",
    "# visualization\n",
    "import seaborn as sns\n",
    "import plotly.express as px\n",
    "import matplotlib.pyplot as plt\n",
    "%matplotlib inline\n",
    "\n",
    "from sklearn.svm import SVC\n",
    "\n",
    "import pickle\n",
    "\n",
    "from analyseModel import results\n",
    "from sklearn.metrics import classification_report,confusion_matrix,accuracy_score,roc_curve,auc\n",
    "from hyperparameterTuning import hyperparamTraining as hpt "
   ]
  },
  {
   "cell_type": "code",
   "execution_count": 20,
   "metadata": {},
   "outputs": [],
   "source": [
    "file = open('../../data/ML_models/model_data.pkl', 'rb')\n",
    "data = pickle.load(file)\n",
    "file.close()"
   ]
  },
  {
   "cell_type": "code",
   "execution_count": 21,
   "metadata": {},
   "outputs": [],
   "source": [
    "x_train = data['x_train']\n",
    "x_test = data['x_test']\n",
    "y_train = data['y_train']\n",
    "y_test = data['y_test']\n",
    "columns = data['x_feature']"
   ]
  },
  {
   "cell_type": "code",
   "execution_count": 22,
   "metadata": {},
   "outputs": [
    {
     "name": "stdout",
     "output_type": "stream",
     "text": [
      "******************************\n",
      "MODEL - OUTPUT\n",
      "******************************\n",
      "\n",
      "accuracy_score : 0.7530163236337828\n",
      "\n",
      "classification report :\n",
      "               precision    recall  f1-score   support\n",
      "\n",
      "           0       0.89      0.76      0.82      1036\n",
      "           1       0.52      0.73      0.61       373\n",
      "\n",
      "    accuracy                           0.75      1409\n",
      "   macro avg       0.71      0.75      0.71      1409\n",
      "weighted avg       0.79      0.75      0.76      1409\n",
      "\n"
     ]
    },
    {
     "data": {
      "image/png": "[encoded data removed]",
      "text/plain": [
       "<Figure size 1008x864 with 2 Axes>"
      ]
     },
     "metadata": {
      "needs_background": "light"
     },
     "output_type": "display_data"
    }
   ],
   "source": [
    "svc =SVC()\n",
    "\n",
    "svc.fit(x_train,y_train)\n",
    "results(svc, x_train, y_train, x_test, y_test, None, None)"
   ]
  },
  {
   "cell_type": "code",
   "execution_count": 23,
   "metadata": {},
   "outputs": [
    {
     "name": "stdout",
     "output_type": "stream",
     "text": [
      "Fitting 10 folds for each of 2 candidates, totalling 20 fits\n",
      "{'C': 10, 'kernel': 'rbf'}\n",
      "SVC(C=10)\n",
      "******************************\n",
      "MODEL - OUTPUT\n",
      "******************************\n",
      "\n",
      "accuracy_score : 0.7508871540099361\n",
      "\n",
      "classification report :\n",
      "               precision    recall  f1-score   support\n",
      "\n",
      "           0       0.89      0.75      0.82      1036\n",
      "           1       0.52      0.75      0.61       373\n",
      "\n",
      "    accuracy                           0.75      1409\n",
      "   macro avg       0.71      0.75      0.71      1409\n",
      "weighted avg       0.79      0.75      0.76      1409\n",
      "\n"
     ]
    },
    {
     "data": {
      "image/png": "[encoded data removed]",
      "text/plain": [
       "<Figure size 1008x864 with 2 Axes>"
      ]
     },
     "metadata": {
      "needs_background": "light"
     },
     "output_type": "display_data"
    }
   ],
   "source": [
    "param = {\n",
    "    'C': [i for i in range(10, 12, 14)],\n",
    "    'kernel': ['linear', 'rbf']\n",
    "}\n",
    "svc =SVC()\n",
    "svcModel = hpt(svc, x_train, y_train, x_test, y_test, param, None, None)"
   ]
  },
  {
   "cell_type": "code",
   "execution_count": 24,
   "metadata": {},
   "outputs": [],
   "source": [
    "file = open('../../data/ML_models/svcModel.pkl', 'wb')\n",
    "pickle.dump(svcModel, file)"
   ]
  },
  {
   "cell_type": "code",
   "execution_count": null,
   "metadata": {},
   "outputs": [],
   "source": []
  }
 ],
 "metadata": {
  "kernelspec": {
   "display_name": "Python 3.7.9 64-bit (microsoft store)",
   "language": "python",
   "name": "python3"
  },
  "language_info": {
   "codemirror_mode": {
    "name": "ipython",
    "version": 3
   },
   "file_extension": ".py",
   "mimetype": "text/x-python",
   "name": "python",
   "nbconvert_exporter": "python",
   "pygments_lexer": "ipython3",
   "version": "3.7.9"
  },
  "orig_nbformat": 4,
  "vscode": {
   "interpreter": {
    "hash": "49deadb19ec3199b19c2e07bd674ab90037832d683175982dd3cb88bf7cb6cf2"
   }
  }
 },
 "nbformat": 4,
 "nbformat_minor": 2
}
